{
 "cells": [
  {
   "cell_type": "code",
   "execution_count": 1,
   "id": "448c052b",
   "metadata": {},
   "outputs": [],
   "source": [
    "import pandas as pd\n",
    "from bs4 import BeautifulSoup\n",
    "from requests import get"
   ]
  },
  {
   "cell_type": "code",
   "execution_count": 2,
   "id": "bed7babd",
   "metadata": {},
   "outputs": [
    {
     "data": {
      "text/plain": [
       "'https://www.flipkart.com/search?q=tv+smart+tv&sid=ckf%2Cczl&as=on&as-show=on&otracker=AS_QueryStore_OrganicAutoSuggest_1_2_na_na_na&otracker1=AS_QueryStore_OrganicAutoSuggest_1_2_na_na_na&as-pos=1&as-type=RECENT&suggestionId=tv+smart+tv%7CTelevisions&requestId=b12db4dc-db18-45fc-81d3-afdd75727661&as-backfill=on'"
      ]
     },
     "execution_count": 2,
     "metadata": {},
     "output_type": "execute_result"
    }
   ],
   "source": [
    "url='https://www.flipkart.com/search?q=tv+smart+tv&sid=ckf%2Cczl&as=on&as-show=on&otracker=AS_QueryStore_OrganicAutoSuggest_1_2_na_na_na&otracker1=AS_QueryStore_OrganicAutoSuggest_1_2_na_na_na&as-pos=1&as-type=RECENT&suggestionId=tv+smart+tv%7CTelevisions&requestId=b12db4dc-db18-45fc-81d3-afdd75727661&as-backfill=on'\n",
    "url"
   ]
  },
  {
   "cell_type": "code",
   "execution_count": 3,
   "id": "60debb3c",
   "metadata": {},
   "outputs": [
    {
     "data": {
      "text/plain": [
       "<Response [200]>"
      ]
     },
     "execution_count": 3,
     "metadata": {},
     "output_type": "execute_result"
    }
   ],
   "source": [
    "response=get(url)\n",
    "response"
   ]
  },
  {
   "cell_type": "code",
   "execution_count": 4,
   "id": "0fbcac8f",
   "metadata": {},
   "outputs": [],
   "source": [
    "soup=BeautifulSoup(response.text,'lxml')"
   ]
  },
  {
   "cell_type": "code",
   "execution_count": 5,
   "id": "587852f6",
   "metadata": {},
   "outputs": [],
   "source": [
    "master_container=soup.find_all('div',{'class':'_2kHMtA'})"
   ]
  },
  {
   "cell_type": "code",
   "execution_count": 6,
   "id": "b589d37f",
   "metadata": {},
   "outputs": [],
   "source": [
    "tv_name=[]\n",
    "for i in range(len(master_container)):\n",
    "    try:\n",
    "        tv_name.append(master_container[i].find('div',{'class':'_4rR01T'}).text)\n",
    "    except:\n",
    "        tv_name.append(None)"
   ]
  },
  {
   "cell_type": "code",
   "execution_count": 7,
   "id": "ecc1a495",
   "metadata": {},
   "outputs": [
    {
     "data": {
      "text/plain": [
       "24"
      ]
     },
     "execution_count": 7,
     "metadata": {},
     "output_type": "execute_result"
    }
   ],
   "source": [
    "len(tv_name)"
   ]
  },
  {
   "cell_type": "code",
   "execution_count": 8,
   "id": "9c0c3452",
   "metadata": {},
   "outputs": [],
   "source": [
    "ratings=[]\n",
    "for i in range(len(master_container)):\n",
    "    try:\n",
    "        ratings.append(master_container[i].find('div',{'class':'_3LWZlK'}).text)\n",
    "    except:\n",
    "        ratings.append(None)"
   ]
  },
  {
   "cell_type": "code",
   "execution_count": 9,
   "id": "aaa69031",
   "metadata": {},
   "outputs": [
    {
     "data": {
      "text/plain": [
       "24"
      ]
     },
     "execution_count": 9,
     "metadata": {},
     "output_type": "execute_result"
    }
   ],
   "source": [
    "len(ratings)"
   ]
  },
  {
   "cell_type": "code",
   "execution_count": 10,
   "id": "4bd6e222",
   "metadata": {},
   "outputs": [],
   "source": [
    "price=[]\n",
    "for i in range(len(master_container)):\n",
    "    try:\n",
    "        price.append(master_container[i].find('div',{'class':'_30jeq3 _1_WHN1'}).text)\n",
    "    except:\n",
    "        price.append(None)"
   ]
  },
  {
   "cell_type": "code",
   "execution_count": 11,
   "id": "700bea45",
   "metadata": {},
   "outputs": [
    {
     "data": {
      "text/plain": [
       "24"
      ]
     },
     "execution_count": 11,
     "metadata": {},
     "output_type": "execute_result"
    }
   ],
   "source": [
    "len(price)"
   ]
  },
  {
   "cell_type": "code",
   "execution_count": 12,
   "id": "63a1ebf3",
   "metadata": {},
   "outputs": [],
   "source": [
    "review=[]\n",
    "for i in range(len(master_container)):\n",
    "    try:\n",
    "        review.append(master_container[i].find('span',{'class':'_2_R_DZ'}).text)\n",
    "    except:\n",
    "        review.append(None)"
   ]
  },
  {
   "cell_type": "code",
   "execution_count": 13,
   "id": "bbc8e51b",
   "metadata": {},
   "outputs": [
    {
     "data": {
      "text/plain": [
       "24"
      ]
     },
     "execution_count": 13,
     "metadata": {},
     "output_type": "execute_result"
    }
   ],
   "source": [
    "len(review)"
   ]
  },
  {
   "cell_type": "code",
   "execution_count": 14,
   "id": "426e561a",
   "metadata": {},
   "outputs": [],
   "source": [
    "data={\"TV\":tv_name,'Ratings':ratings,'Price':price,'Reviews':review}"
   ]
  },
  {
   "cell_type": "code",
   "execution_count": 15,
   "id": "9d8197fe",
   "metadata": {},
   "outputs": [],
   "source": [
    "data=pd.DataFrame(data)"
   ]
  },
  {
   "cell_type": "code",
   "execution_count": 16,
   "id": "6489d34a",
   "metadata": {},
   "outputs": [
    {
     "data": {
      "text/html": [
       "<div>\n",
       "<style scoped>\n",
       "    .dataframe tbody tr th:only-of-type {\n",
       "        vertical-align: middle;\n",
       "    }\n",
       "\n",
       "    .dataframe tbody tr th {\n",
       "        vertical-align: top;\n",
       "    }\n",
       "\n",
       "    .dataframe thead th {\n",
       "        text-align: right;\n",
       "    }\n",
       "</style>\n",
       "<table border=\"1\" class=\"dataframe\">\n",
       "  <thead>\n",
       "    <tr style=\"text-align: right;\">\n",
       "      <th></th>\n",
       "      <th>TV</th>\n",
       "      <th>Ratings</th>\n",
       "      <th>Price</th>\n",
       "      <th>Reviews</th>\n",
       "    </tr>\n",
       "  </thead>\n",
       "  <tbody>\n",
       "    <tr>\n",
       "      <th>0</th>\n",
       "      <td>Mi 5A 80 cm (32 inch) HD Ready LED Smart Andro...</td>\n",
       "      <td>4.4</td>\n",
       "      <td>₹12,999</td>\n",
       "      <td>3,55,747 Ratings &amp; 33,435 Reviews</td>\n",
       "    </tr>\n",
       "    <tr>\n",
       "      <th>1</th>\n",
       "      <td>OnePlus Y1S 80 cm (32 inch) HD Ready LED Smart...</td>\n",
       "      <td>4.3</td>\n",
       "      <td>₹13,999</td>\n",
       "      <td>68,066 Ratings &amp; 6,422 Reviews</td>\n",
       "    </tr>\n",
       "    <tr>\n",
       "      <th>2</th>\n",
       "      <td>LG 80 cm (32 inch) HD Ready LED Smart WebOS TV</td>\n",
       "      <td>4.4</td>\n",
       "      <td>₹13,999</td>\n",
       "      <td>54,385 Ratings &amp; 4,798 Reviews</td>\n",
       "    </tr>\n",
       "    <tr>\n",
       "      <th>3</th>\n",
       "      <td>MOTOROLA Envision 140 cm (55 inch) Ultra HD (4...</td>\n",
       "      <td>4.2</td>\n",
       "      <td>₹32,999</td>\n",
       "      <td>20 Ratings &amp; 7 Reviews</td>\n",
       "    </tr>\n",
       "    <tr>\n",
       "      <th>4</th>\n",
       "      <td>realme 80 cm (32 inch) HD Ready LED Smart Andr...</td>\n",
       "      <td>4.3</td>\n",
       "      <td>₹11,999</td>\n",
       "      <td>2,49,453 Ratings &amp; 27,934 Reviews</td>\n",
       "    </tr>\n",
       "    <tr>\n",
       "      <th>5</th>\n",
       "      <td>Infinix Y1 80 cm (32 inch) HD Ready LED Smart ...</td>\n",
       "      <td>4.2</td>\n",
       "      <td>₹8,499</td>\n",
       "      <td>22,116 Ratings &amp; 2,854 Reviews</td>\n",
       "    </tr>\n",
       "    <tr>\n",
       "      <th>6</th>\n",
       "      <td>Thomson Alpha 80 cm (32 inch) HD Ready LED Sma...</td>\n",
       "      <td>4.4</td>\n",
       "      <td>₹8,499</td>\n",
       "      <td>14,783 Ratings &amp; 2,377 Reviews</td>\n",
       "    </tr>\n",
       "    <tr>\n",
       "      <th>7</th>\n",
       "      <td>Mi X Pro 125 cm (50 inch) Ultra HD (4K) LED Sm...</td>\n",
       "      <td>4.3</td>\n",
       "      <td>₹41,999</td>\n",
       "      <td>23,845 Ratings &amp; 2,424 Reviews</td>\n",
       "    </tr>\n",
       "    <tr>\n",
       "      <th>8</th>\n",
       "      <td>Coocaa 80 cm (32 inch) HD Ready LED Smart Cool...</td>\n",
       "      <td>4.3</td>\n",
       "      <td>₹8,499</td>\n",
       "      <td>12,563 Ratings &amp; 1,765 Reviews</td>\n",
       "    </tr>\n",
       "    <tr>\n",
       "      <th>9</th>\n",
       "      <td>Mi X Series 108 cm (43 inch) Ultra HD (4K) LED...</td>\n",
       "      <td>4.3</td>\n",
       "      <td>₹26,999</td>\n",
       "      <td>38,078 Ratings &amp; 3,251 Reviews</td>\n",
       "    </tr>\n",
       "    <tr>\n",
       "      <th>10</th>\n",
       "      <td>OnePlus Y1S 108 cm (43 inch) Full HD LED Smart...</td>\n",
       "      <td>4.3</td>\n",
       "      <td>₹24,999</td>\n",
       "      <td>68,066 Ratings &amp; 6,422 Reviews</td>\n",
       "    </tr>\n",
       "    <tr>\n",
       "      <th>11</th>\n",
       "      <td>Gangnam Street 108 cm (43 inch) Full HD LED Sm...</td>\n",
       "      <td>4.6</td>\n",
       "      <td>₹12,999</td>\n",
       "      <td>16 Ratings &amp; 4 Reviews</td>\n",
       "    </tr>\n",
       "    <tr>\n",
       "      <th>12</th>\n",
       "      <td>acer I Series 80 cm (32 inch) HD Ready LED Sma...</td>\n",
       "      <td>4.4</td>\n",
       "      <td>₹11,499</td>\n",
       "      <td>9,098 Ratings &amp; 1,461 Reviews</td>\n",
       "    </tr>\n",
       "    <tr>\n",
       "      <th>13</th>\n",
       "      <td>SAMSUNG 80 cm (32 Inch) HD Ready LED Smart Tiz...</td>\n",
       "      <td>4.4</td>\n",
       "      <td>₹13,490</td>\n",
       "      <td>88,086 Ratings &amp; 7,569 Reviews</td>\n",
       "    </tr>\n",
       "    <tr>\n",
       "      <th>14</th>\n",
       "      <td>TCL 80.04 cm (32 inch) HD Ready LED Smart Andr...</td>\n",
       "      <td>4.1</td>\n",
       "      <td>₹11,990</td>\n",
       "      <td>119 Ratings &amp; 16 Reviews</td>\n",
       "    </tr>\n",
       "    <tr>\n",
       "      <th>15</th>\n",
       "      <td>iFFALCON by TCL 80.04 cm (32 inch) HD Ready LE...</td>\n",
       "      <td>4.2</td>\n",
       "      <td>₹10,999</td>\n",
       "      <td>5,784 Ratings &amp; 798 Reviews</td>\n",
       "    </tr>\n",
       "    <tr>\n",
       "      <th>16</th>\n",
       "      <td>Mi X Series 125 cm (50 inch) Ultra HD (4K) LED...</td>\n",
       "      <td>4.3</td>\n",
       "      <td>₹32,999</td>\n",
       "      <td>38,078 Ratings &amp; 3,251 Reviews</td>\n",
       "    </tr>\n",
       "    <tr>\n",
       "      <th>17</th>\n",
       "      <td>Mi 5A 108 cm (43 inch) Full HD LED Smart Andro...</td>\n",
       "      <td>4.4</td>\n",
       "      <td>₹23,999</td>\n",
       "      <td>3,55,747 Ratings &amp; 33,435 Reviews</td>\n",
       "    </tr>\n",
       "    <tr>\n",
       "      <th>18</th>\n",
       "      <td>Mi 5A 100 cm (40 inch) Full HD LED Smart Andro...</td>\n",
       "      <td>4.4</td>\n",
       "      <td>₹20,999</td>\n",
       "      <td>3,55,747 Ratings &amp; 33,435 Reviews</td>\n",
       "    </tr>\n",
       "    <tr>\n",
       "      <th>19</th>\n",
       "      <td>Infinix X3IN 80 cm (32 cm) HD Ready LED Smart ...</td>\n",
       "      <td>None</td>\n",
       "      <td>₹9,799</td>\n",
       "      <td>None</td>\n",
       "    </tr>\n",
       "    <tr>\n",
       "      <th>20</th>\n",
       "      <td>OnePlus U1S 164 cm (65 inch) Ultra HD (4K) LED...</td>\n",
       "      <td>4.4</td>\n",
       "      <td>₹59,999</td>\n",
       "      <td>15,633 Ratings &amp; 1,587 Reviews</td>\n",
       "    </tr>\n",
       "    <tr>\n",
       "      <th>21</th>\n",
       "      <td>Sansui 80 cm (32 inch) HD Ready LED Smart Andr...</td>\n",
       "      <td>4.2</td>\n",
       "      <td>₹10,999</td>\n",
       "      <td>2,465 Ratings &amp; 247 Reviews</td>\n",
       "    </tr>\n",
       "    <tr>\n",
       "      <th>22</th>\n",
       "      <td>OnePlus Y1S 101 cm (40 inch) Full HD LED Smart...</td>\n",
       "      <td>4.3</td>\n",
       "      <td>₹21,999</td>\n",
       "      <td>91,813 Ratings &amp; 8,058 Reviews</td>\n",
       "    </tr>\n",
       "    <tr>\n",
       "      <th>23</th>\n",
       "      <td>LG UQ7500 108 cm (43 inch) Ultra HD (4K) LED S...</td>\n",
       "      <td>4.4</td>\n",
       "      <td>₹30,499</td>\n",
       "      <td>13,564 Ratings &amp; 1,599 Reviews</td>\n",
       "    </tr>\n",
       "  </tbody>\n",
       "</table>\n",
       "</div>"
      ],
      "text/plain": [
       "                                                   TV Ratings    Price  \\\n",
       "0   Mi 5A 80 cm (32 inch) HD Ready LED Smart Andro...     4.4  ₹12,999   \n",
       "1   OnePlus Y1S 80 cm (32 inch) HD Ready LED Smart...     4.3  ₹13,999   \n",
       "2      LG 80 cm (32 inch) HD Ready LED Smart WebOS TV     4.4  ₹13,999   \n",
       "3   MOTOROLA Envision 140 cm (55 inch) Ultra HD (4...     4.2  ₹32,999   \n",
       "4   realme 80 cm (32 inch) HD Ready LED Smart Andr...     4.3  ₹11,999   \n",
       "5   Infinix Y1 80 cm (32 inch) HD Ready LED Smart ...     4.2   ₹8,499   \n",
       "6   Thomson Alpha 80 cm (32 inch) HD Ready LED Sma...     4.4   ₹8,499   \n",
       "7   Mi X Pro 125 cm (50 inch) Ultra HD (4K) LED Sm...     4.3  ₹41,999   \n",
       "8   Coocaa 80 cm (32 inch) HD Ready LED Smart Cool...     4.3   ₹8,499   \n",
       "9   Mi X Series 108 cm (43 inch) Ultra HD (4K) LED...     4.3  ₹26,999   \n",
       "10  OnePlus Y1S 108 cm (43 inch) Full HD LED Smart...     4.3  ₹24,999   \n",
       "11  Gangnam Street 108 cm (43 inch) Full HD LED Sm...     4.6  ₹12,999   \n",
       "12  acer I Series 80 cm (32 inch) HD Ready LED Sma...     4.4  ₹11,499   \n",
       "13  SAMSUNG 80 cm (32 Inch) HD Ready LED Smart Tiz...     4.4  ₹13,490   \n",
       "14  TCL 80.04 cm (32 inch) HD Ready LED Smart Andr...     4.1  ₹11,990   \n",
       "15  iFFALCON by TCL 80.04 cm (32 inch) HD Ready LE...     4.2  ₹10,999   \n",
       "16  Mi X Series 125 cm (50 inch) Ultra HD (4K) LED...     4.3  ₹32,999   \n",
       "17  Mi 5A 108 cm (43 inch) Full HD LED Smart Andro...     4.4  ₹23,999   \n",
       "18  Mi 5A 100 cm (40 inch) Full HD LED Smart Andro...     4.4  ₹20,999   \n",
       "19  Infinix X3IN 80 cm (32 cm) HD Ready LED Smart ...    None   ₹9,799   \n",
       "20  OnePlus U1S 164 cm (65 inch) Ultra HD (4K) LED...     4.4  ₹59,999   \n",
       "21  Sansui 80 cm (32 inch) HD Ready LED Smart Andr...     4.2  ₹10,999   \n",
       "22  OnePlus Y1S 101 cm (40 inch) Full HD LED Smart...     4.3  ₹21,999   \n",
       "23  LG UQ7500 108 cm (43 inch) Ultra HD (4K) LED S...     4.4  ₹30,499   \n",
       "\n",
       "                              Reviews  \n",
       "0   3,55,747 Ratings & 33,435 Reviews  \n",
       "1      68,066 Ratings & 6,422 Reviews  \n",
       "2      54,385 Ratings & 4,798 Reviews  \n",
       "3              20 Ratings & 7 Reviews  \n",
       "4   2,49,453 Ratings & 27,934 Reviews  \n",
       "5      22,116 Ratings & 2,854 Reviews  \n",
       "6      14,783 Ratings & 2,377 Reviews  \n",
       "7      23,845 Ratings & 2,424 Reviews  \n",
       "8      12,563 Ratings & 1,765 Reviews  \n",
       "9      38,078 Ratings & 3,251 Reviews  \n",
       "10     68,066 Ratings & 6,422 Reviews  \n",
       "11             16 Ratings & 4 Reviews  \n",
       "12      9,098 Ratings & 1,461 Reviews  \n",
       "13     88,086 Ratings & 7,569 Reviews  \n",
       "14           119 Ratings & 16 Reviews  \n",
       "15        5,784 Ratings & 798 Reviews  \n",
       "16     38,078 Ratings & 3,251 Reviews  \n",
       "17  3,55,747 Ratings & 33,435 Reviews  \n",
       "18  3,55,747 Ratings & 33,435 Reviews  \n",
       "19                               None  \n",
       "20     15,633 Ratings & 1,587 Reviews  \n",
       "21        2,465 Ratings & 247 Reviews  \n",
       "22     91,813 Ratings & 8,058 Reviews  \n",
       "23     13,564 Ratings & 1,599 Reviews  "
      ]
     },
     "execution_count": 16,
     "metadata": {},
     "output_type": "execute_result"
    }
   ],
   "source": [
    "data"
   ]
  },
  {
   "cell_type": "code",
   "execution_count": null,
   "id": "9b933a69",
   "metadata": {},
   "outputs": [],
   "source": []
  },
  {
   "cell_type": "code",
   "execution_count": null,
   "id": "ecc3e143",
   "metadata": {},
   "outputs": [],
   "source": []
  },
  {
   "cell_type": "code",
   "execution_count": null,
   "id": "3bc4a87e",
   "metadata": {},
   "outputs": [],
   "source": []
  }
 ],
 "metadata": {
  "kernelspec": {
   "display_name": "Python 3 (ipykernel)",
   "language": "python",
   "name": "python3"
  },
  "language_info": {
   "codemirror_mode": {
    "name": "ipython",
    "version": 3
   },
   "file_extension": ".py",
   "mimetype": "text/x-python",
   "name": "python",
   "nbconvert_exporter": "python",
   "pygments_lexer": "ipython3",
   "version": "3.9.13"
  }
 },
 "nbformat": 4,
 "nbformat_minor": 5
}
