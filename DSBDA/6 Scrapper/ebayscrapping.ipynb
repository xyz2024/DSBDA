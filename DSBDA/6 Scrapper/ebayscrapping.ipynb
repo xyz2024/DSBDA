{
 "cells": [
  {
   "cell_type": "code",
   "execution_count": 3,
   "id": "487b6a34",
   "metadata": {},
   "outputs": [],
   "source": [
    "import pandas as pd\n",
    "from requests import get\n",
    "from bs4 import BeautifulSoup"
   ]
  },
  {
   "cell_type": "code",
   "execution_count": 4,
   "id": "7fd90674",
   "metadata": {},
   "outputs": [],
   "source": [
    "url='https://www.ebay.com/p/238941331?iid=275419609847&var=575992701310#UserReviews'"
   ]
  },
  {
   "cell_type": "code",
   "execution_count": 5,
   "id": "f7675434",
   "metadata": {},
   "outputs": [
    {
     "data": {
      "text/plain": [
       "<Response [200]>"
      ]
     },
     "execution_count": 5,
     "metadata": {},
     "output_type": "execute_result"
    }
   ],
   "source": [
    "response=get(url)\n",
    "response"
   ]
  },
  {
   "cell_type": "code",
   "execution_count": 7,
   "id": "6a6127a8",
   "metadata": {},
   "outputs": [],
   "source": [
    "soup=BeautifulSoup(response.text,'lxml')"
   ]
  },
  {
   "cell_type": "code",
   "execution_count": 8,
   "id": "c32e52dc",
   "metadata": {},
   "outputs": [],
   "source": [
    "master=soup.find_all('ul',{'class':'reviews--body'})"
   ]
  },
  {
   "cell_type": "code",
   "execution_count": 9,
   "id": "91b509b1",
   "metadata": {},
   "outputs": [],
   "source": [
    "cust_name=[]\n",
    "review=[]\n",
    "for i in range(len(master)):\n",
    "    cust_name.append(master[i].find('a',{'class':'review--author'}).text)\n",
    "    review.append(master[i].find('p',{'class':'review--content'}).text)"
   ]
  },
  {
   "cell_type": "code",
   "execution_count": 10,
   "id": "8f663d23",
   "metadata": {},
   "outputs": [
    {
     "data": {
      "text/plain": [
       "['phamsept2056']"
      ]
     },
     "execution_count": 10,
     "metadata": {},
     "output_type": "execute_result"
    }
   ],
   "source": [
    "cust_name"
   ]
  },
  {
   "cell_type": "code",
   "execution_count": 11,
   "id": "8f522c8f",
   "metadata": {},
   "outputs": [
    {
     "data": {
      "text/plain": [
       "['The iPhone 6 Plus and 7. 7 plus was Apple biggest step in leading the smart phone maker with worldwide acceptance of apple technology and physical form factor of their iPhone. iPhones 8 8 plus is the last model has the classical looks of it original. The X model are the transition of a new arena. Apple still the leader in the market with high end top technology and quality, that was Apple strong hold which the competitions can not achieve, but Apply failure in capture the low end markets. They have biggest problems now with the introduction of the XR, The iPhone XR supposedly the highest volume sale because the products were addressed the middle price below it current top products,']"
      ]
     },
     "execution_count": 11,
     "metadata": {},
     "output_type": "execute_result"
    }
   ],
   "source": [
    "review"
   ]
  },
  {
   "cell_type": "code",
   "execution_count": null,
   "id": "e9379c7a",
   "metadata": {},
   "outputs": [],
   "source": []
  }
 ],
 "metadata": {
  "kernelspec": {
   "display_name": "Python 3 (ipykernel)",
   "language": "python",
   "name": "python3"
  },
  "language_info": {
   "codemirror_mode": {
    "name": "ipython",
    "version": 3
   },
   "file_extension": ".py",
   "mimetype": "text/x-python",
   "name": "python",
   "nbconvert_exporter": "python",
   "pygments_lexer": "ipython3",
   "version": "3.9.13"
  }
 },
 "nbformat": 4,
 "nbformat_minor": 5
}
